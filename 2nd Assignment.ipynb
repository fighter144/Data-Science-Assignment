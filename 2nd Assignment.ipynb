{
 "cells": [
  {
   "cell_type": "code",
   "execution_count": 1,
   "id": "f04435f0-bb91-4329-b815-19e2baace4cd",
   "metadata": {},
   "outputs": [],
   "source": [
    "# Q1 Discuss string slicing and provide examples?"
   ]
  },
  {
   "cell_type": "code",
   "execution_count": 4,
   "id": "e10b4bea-f39b-4940-b3e5-c4d1ac31e0fe",
   "metadata": {},
   "outputs": [
    {
     "data": {
      "text/plain": [
       "'String Slicing is used to get desired number of character from wherever we want in string, Example for this is given below in code'"
      ]
     },
     "execution_count": 4,
     "metadata": {},
     "output_type": "execute_result"
    }
   ],
   "source": [
    "'''String Slicing is used to get desired number of character from wherever we want in string, Example for this is given below in code'''\n"
   ]
  },
  {
   "cell_type": "code",
   "execution_count": 5,
   "id": "9bfdf260-ff84-47a2-8b60-21f965f5c978",
   "metadata": {},
   "outputs": [],
   "source": [
    "string=\"pwskills\""
   ]
  },
  {
   "cell_type": "code",
   "execution_count": 6,
   "id": "03bf0ab6-b425-4037-a394-8d22ce046232",
   "metadata": {},
   "outputs": [
    {
     "data": {
      "text/plain": [
       "'pws'"
      ]
     },
     "execution_count": 6,
     "metadata": {},
     "output_type": "execute_result"
    }
   ],
   "source": [
    "string[0:3] #give elements from o to 2"
   ]
  },
  {
   "cell_type": "code",
   "execution_count": 7,
   "id": "cae40b8e-86af-4adf-8dfc-835239757fa4",
   "metadata": {},
   "outputs": [
    {
     "data": {
      "text/plain": [
       "'ps'"
      ]
     },
     "execution_count": 7,
     "metadata": {},
     "output_type": "execute_result"
    }
   ],
   "source": [
    "string[0:4:2] #give character from 0 to 3 with gap of 2 character"
   ]
  },
  {
   "cell_type": "code",
   "execution_count": 8,
   "id": "fbfadef7-754a-4717-bc0c-84d4b70e73ae",
   "metadata": {},
   "outputs": [],
   "source": [
    "#Q2 Explain the key features of list in python?"
   ]
  },
  {
   "cell_type": "code",
   "execution_count": 9,
   "id": "0074d7cd-d2e6-4f32-beb9-53ac94346b73",
   "metadata": {},
   "outputs": [
    {
     "data": {
      "text/plain": [
       "'List is ordered, heterogeneous collection of elements, It is also mutable in naure'"
      ]
     },
     "execution_count": 9,
     "metadata": {},
     "output_type": "execute_result"
    }
   ],
   "source": [
    "'''List is ordered, heterogeneous collection of elements, It is also mutable in naure'''"
   ]
  },
  {
   "cell_type": "code",
   "execution_count": 10,
   "id": "f52e9a7c-99c8-4ebc-aaed-e4b6a3cd1cda",
   "metadata": {},
   "outputs": [],
   "source": [
    "lis=[1,2,3,\"pw\",\"game\",\"cricket\",4.5,8.8] #it contains heterogeneous elements"
   ]
  },
  {
   "cell_type": "code",
   "execution_count": 11,
   "id": "ccb7f72c-f3de-4112-953c-6d50b28fd394",
   "metadata": {},
   "outputs": [
    {
     "data": {
      "text/plain": [
       "1"
      ]
     },
     "execution_count": 11,
     "metadata": {},
     "output_type": "execute_result"
    }
   ],
   "source": [
    "lis[0] #can access an element"
   ]
  },
  {
   "cell_type": "code",
   "execution_count": 12,
   "id": "ad5be50a-83ba-43da-a5f0-ef550deab133",
   "metadata": {},
   "outputs": [
    {
     "data": {
      "text/plain": [
       "[1, 2, 3, 'pw', 'game']"
      ]
     },
     "execution_count": 12,
     "metadata": {},
     "output_type": "execute_result"
    }
   ],
   "source": [
    "lis[0:5] #slicing is also allowed due to ordered nature"
   ]
  },
  {
   "cell_type": "code",
   "execution_count": 13,
   "id": "92db3b84-6b41-4504-add6-d758a0615cdd",
   "metadata": {},
   "outputs": [],
   "source": [
    "lis[0]=\"data_science\" #can also change existig elements due to its mutable nature"
   ]
  },
  {
   "cell_type": "code",
   "execution_count": 14,
   "id": "256970df-b4d2-4791-805a-49421c14c0b8",
   "metadata": {},
   "outputs": [
    {
     "data": {
      "text/plain": [
       "['data_science', 2, 3, 'pw', 'game', 'cricket', 4.5, 8.8]"
      ]
     },
     "execution_count": 14,
     "metadata": {},
     "output_type": "execute_result"
    }
   ],
   "source": [
    "lis"
   ]
  },
  {
   "cell_type": "code",
   "execution_count": 15,
   "id": "eb75817d-633c-445e-877d-a99902d7172b",
   "metadata": {},
   "outputs": [],
   "source": [
    "#Q3 Describe how to access, modify and delete elements in a list with examples?"
   ]
  },
  {
   "cell_type": "code",
   "execution_count": 16,
   "id": "1505f7a6-c498-4fd4-80ec-69b4eed99c92",
   "metadata": {},
   "outputs": [
    {
     "data": {
      "text/plain": [
       "'anuj'"
      ]
     },
     "execution_count": 16,
     "metadata": {},
     "output_type": "execute_result"
    }
   ],
   "source": [
    "name=[\"anuj\",\"varun\",\"aditya\",\"mayank\"]\n",
    "name[0] #to access elements"
   ]
  },
  {
   "cell_type": "code",
   "execution_count": 17,
   "id": "5b555906-e8c5-4136-9ea1-1cdccdd46aa9",
   "metadata": {},
   "outputs": [],
   "source": [
    "name[0]=\"pratyush\" #to modify elements"
   ]
  },
  {
   "cell_type": "code",
   "execution_count": 18,
   "id": "e5c89c8d-7e3a-4982-b366-0f88a16a4ca6",
   "metadata": {},
   "outputs": [
    {
     "data": {
      "text/plain": [
       "['pratyush', 'varun', 'aditya', 'mayank']"
      ]
     },
     "execution_count": 18,
     "metadata": {},
     "output_type": "execute_result"
    }
   ],
   "source": [
    "name"
   ]
  },
  {
   "cell_type": "code",
   "execution_count": 19,
   "id": "e462fb57-4216-4ec8-8d42-9d14613b2bfc",
   "metadata": {},
   "outputs": [],
   "source": [
    "name.remove(\"pratyush\") #to delete element"
   ]
  },
  {
   "cell_type": "code",
   "execution_count": 20,
   "id": "186736fb-67ad-4d21-99fb-8abe9df5430c",
   "metadata": {},
   "outputs": [
    {
     "data": {
      "text/plain": [
       "['varun', 'aditya', 'mayank']"
      ]
     },
     "execution_count": 20,
     "metadata": {},
     "output_type": "execute_result"
    }
   ],
   "source": [
    "name"
   ]
  },
  {
   "cell_type": "code",
   "execution_count": 21,
   "id": "141e5f04-c2b7-436f-823e-597d616f1fc8",
   "metadata": {},
   "outputs": [],
   "source": [
    "#Q4 Compare and contrast tuples and lists with examples?"
   ]
  },
  {
   "cell_type": "code",
   "execution_count": 23,
   "id": "8fa29576-70e1-4f50-986d-16fa9bdb1616",
   "metadata": {},
   "outputs": [
    {
     "name": "stdout",
     "output_type": "stream",
     "text": [
      "Tuples are jus like list i.e heterogeneous and ordered in nature but Imuutable i.e there element can't be changed once defined originally\n",
      " while, on the other hand, list elements can be modified as per our wish even afer executing it\n",
      "Examples for this is giveb below:\n"
     ]
    }
   ],
   "source": [
    "ans=\"Tuples are jus like list i.e heterogeneous and ordered in nature but Imuutable i.e there element can't be changed once defined originally\\n while, on the other hand, list elements can be modified as per our wish even afer executing it\\nExamples for this is giveb below:\"\n",
    "print(ans)"
   ]
  },
  {
   "cell_type": "code",
   "execution_count": 24,
   "id": "4691fb80-e1e7-44be-ae2f-c49f3ad16f6d",
   "metadata": {},
   "outputs": [],
   "source": [
    "t=(1,2,3) #Tuple"
   ]
  },
  {
   "cell_type": "code",
   "execution_count": 25,
   "id": "f5aa9a23-e881-4289-89ff-fc7b428430f9",
   "metadata": {},
   "outputs": [
    {
     "data": {
      "text/plain": [
       "1"
      ]
     },
     "execution_count": 25,
     "metadata": {},
     "output_type": "execute_result"
    }
   ],
   "source": [
    "t[0] #we can access any element due to its ordered nature"
   ]
  },
  {
   "cell_type": "code",
   "execution_count": 26,
   "id": "573a8bac-c58d-4ff6-b58b-c2156983a554",
   "metadata": {},
   "outputs": [
    {
     "ename": "TypeError",
     "evalue": "'tuple' object does not support item assignment",
     "output_type": "error",
     "traceback": [
      "\u001b[0;31m---------------------------------------------------------------------------\u001b[0m",
      "\u001b[0;31mTypeError\u001b[0m                                 Traceback (most recent call last)",
      "Cell \u001b[0;32mIn[26], line 1\u001b[0m\n\u001b[0;32m----> 1\u001b[0m \u001b[43mt\u001b[49m\u001b[43m[\u001b[49m\u001b[38;5;241;43m1\u001b[39;49m\u001b[43m]\u001b[49m\u001b[38;5;241m=\u001b[39m\u001b[38;5;241m4\u001b[39m \u001b[38;5;66;03m#we can't modify any element once defined due to its immutable character\u001b[39;00m\n",
      "\u001b[0;31mTypeError\u001b[0m: 'tuple' object does not support item assignment"
     ]
    }
   ],
   "source": [
    "t[1]=4 #we can't modify any element once defined due to its immutable character"
   ]
  },
  {
   "cell_type": "code",
   "execution_count": 27,
   "id": "1aef850a-d615-426d-b5f3-b9e0049e157c",
   "metadata": {},
   "outputs": [],
   "source": [
    "list1=[1,2,\"ab\",\"cd\"]\n",
    "list1[1]=\"hg\" #we can modify an element "
   ]
  },
  {
   "cell_type": "code",
   "execution_count": 28,
   "id": "69882c2a-4194-428c-9215-1e350f83ad11",
   "metadata": {},
   "outputs": [
    {
     "data": {
      "text/plain": [
       "[1, 'hg', 'ab', 'cd']"
      ]
     },
     "execution_count": 28,
     "metadata": {},
     "output_type": "execute_result"
    }
   ],
   "source": [
    "list1"
   ]
  },
  {
   "cell_type": "code",
   "execution_count": 29,
   "id": "a7b0820a-e813-4899-9e7a-ffb7bad320b6",
   "metadata": {},
   "outputs": [],
   "source": [
    "#Q5 Describe the key features of sets and provide ecamples of their use?"
   ]
  },
  {
   "cell_type": "code",
   "execution_count": 31,
   "id": "27b6c923-ac9f-4748-bb82-0868ba1e7f70",
   "metadata": {},
   "outputs": [
    {
     "name": "stdout",
     "output_type": "stream",
     "text": [
      "Sets are unordered, distict collection of element.\n",
      " It is mutable in nature.\n",
      "It is used to store unique different values\n"
     ]
    }
   ],
   "source": [
    "ans=\"Sets are unordered, distict collection of element.\\n It is mutable in nature.\\nIt is used to store unique different values\"\n",
    "print(ans)"
   ]
  },
  {
   "cell_type": "code",
   "execution_count": 32,
   "id": "561c61d4-0c7a-44bc-aa95-91caa2e15c00",
   "metadata": {},
   "outputs": [],
   "source": [
    "s={1,3,4,\"anuj\",4,5,\"pw\",\"pw\"} #it only take unique values"
   ]
  },
  {
   "cell_type": "code",
   "execution_count": 33,
   "id": "34060f11-10be-4fb3-ad0a-e25aa90d8441",
   "metadata": {},
   "outputs": [
    {
     "data": {
      "text/plain": [
       "{1, 3, 4, 5, 'anuj', 'pw'}"
      ]
     },
     "execution_count": 33,
     "metadata": {},
     "output_type": "execute_result"
    }
   ],
   "source": [
    "s"
   ]
  },
  {
   "cell_type": "code",
   "execution_count": 34,
   "id": "764b3f35-e1c1-4fcc-9ecf-580218d409c0",
   "metadata": {},
   "outputs": [
    {
     "ename": "TypeError",
     "evalue": "'set' object is not subscriptable",
     "output_type": "error",
     "traceback": [
      "\u001b[0;31m---------------------------------------------------------------------------\u001b[0m",
      "\u001b[0;31mTypeError\u001b[0m                                 Traceback (most recent call last)",
      "Cell \u001b[0;32mIn[34], line 1\u001b[0m\n\u001b[0;32m----> 1\u001b[0m \u001b[43ms\u001b[49m\u001b[43m[\u001b[49m\u001b[38;5;241;43m0\u001b[39;49m\u001b[43m]\u001b[49m \u001b[38;5;66;03m#Due to its unordered nature, we can't access its elements\u001b[39;00m\n",
      "\u001b[0;31mTypeError\u001b[0m: 'set' object is not subscriptable"
     ]
    }
   ],
   "source": [
    "s[0] #Due to its unordered nature, we can't access its elements"
   ]
  },
  {
   "cell_type": "code",
   "execution_count": 35,
   "id": "8e12e4ba-59c9-4a9a-9c1b-eb244686e5ce",
   "metadata": {},
   "outputs": [],
   "source": [
    "s.add(\"data\") #due to its mutable nature, we can add elements in ita"
   ]
  },
  {
   "cell_type": "code",
   "execution_count": 36,
   "id": "63b644b2-221d-4fd5-af99-a6a3495fad44",
   "metadata": {},
   "outputs": [
    {
     "data": {
      "text/plain": [
       "{1, 3, 4, 5, 'anuj', 'data', 'pw'}"
      ]
     },
     "execution_count": 36,
     "metadata": {},
     "output_type": "execute_result"
    }
   ],
   "source": [
    "s"
   ]
  },
  {
   "cell_type": "code",
   "execution_count": 37,
   "id": "af1e86c8-4eed-40cd-a6e2-2a50c82219f5",
   "metadata": {},
   "outputs": [
    {
     "data": {
      "text/plain": [
       "'There are many uses of sets: They can be used in union, intersection, difference etc..'"
      ]
     },
     "execution_count": 37,
     "metadata": {},
     "output_type": "execute_result"
    }
   ],
   "source": [
    "'''There are many uses of sets: They can be used in union, intersection, difference etc..'''"
   ]
  },
  {
   "cell_type": "code",
   "execution_count": 38,
   "id": "61410cb4-5b08-4b71-ba9e-d30cf182db65",
   "metadata": {},
   "outputs": [
    {
     "data": {
      "text/plain": [
       "{1, 2}"
      ]
     },
     "execution_count": 38,
     "metadata": {},
     "output_type": "execute_result"
    }
   ],
   "source": [
    "s1={1,2,3,4}\n",
    "s2={1,2,5,6}\n",
    "s1&s2 #Union"
   ]
  },
  {
   "cell_type": "code",
   "execution_count": 39,
   "id": "7f5c4010-9f0e-4462-81f8-e99c056d0922",
   "metadata": {},
   "outputs": [
    {
     "data": {
      "text/plain": [
       "{1, 2, 5, 6}"
      ]
     },
     "execution_count": 39,
     "metadata": {},
     "output_type": "execute_result"
    }
   ],
   "source": [
    "s2|s2 #intersection"
   ]
  },
  {
   "cell_type": "code",
   "execution_count": 40,
   "id": "970363fa-1d22-4de3-b3cf-bff4d86d8041",
   "metadata": {},
   "outputs": [
    {
     "data": {
      "text/plain": [
       "{3, 4}"
      ]
     },
     "execution_count": 40,
     "metadata": {},
     "output_type": "execute_result"
    }
   ],
   "source": [
    "s1-s2 #difference"
   ]
  },
  {
   "cell_type": "code",
   "execution_count": 41,
   "id": "64ee30c5-008a-4804-958f-81ede6122586",
   "metadata": {},
   "outputs": [
    {
     "data": {
      "text/plain": [
       "{3, 4, 5, 6}"
      ]
     },
     "execution_count": 41,
     "metadata": {},
     "output_type": "execute_result"
    }
   ],
   "source": [
    "s1^s2 #to get distinct elements"
   ]
  },
  {
   "cell_type": "code",
   "execution_count": 42,
   "id": "282aade0-1f23-460c-b3d9-80259434ede6",
   "metadata": {},
   "outputs": [],
   "source": [
    "#Q6  Discuss the use cases of tuples and sets in Python programming?"
   ]
  },
  {
   "cell_type": "code",
   "execution_count": 43,
   "id": "b31e08c8-3d98-43e6-b1dd-538a20619982",
   "metadata": {},
   "outputs": [
    {
     "name": "stdout",
     "output_type": "stream",
     "text": [
      "Tuples are used for immutable data only like\n",
      " storing aadhar card\n",
      "Credit/debit card detail etc\n"
     ]
    }
   ],
   "source": [
    "ans=\"Tuples are used for immutable data only like\\n storing aadhar card\\nCredit/debit card detail etc\"\n",
    "print(ans)"
   ]
  },
  {
   "cell_type": "code",
   "execution_count": 44,
   "id": "e6a3d6d9-aaa9-4dbc-8603-ef93af6a7ea5",
   "metadata": {},
   "outputs": [
    {
     "name": "stdout",
     "output_type": "stream",
     "text": [
      "Sets are used to store distinct values only with and can be used in so many different situations\n"
     ]
    }
   ],
   "source": [
    "ans2=\"Sets are used to store distinct values only with and can be used in so many different situations\"\n",
    "print(ans2)"
   ]
  },
  {
   "cell_type": "code",
   "execution_count": 46,
   "id": "47919f51-d0dd-4fc6-9204-85f3b678cdc0",
   "metadata": {},
   "outputs": [
    {
     "name": "stdout",
     "output_type": "stream",
     "text": [
      "('Anuj', 2339)\n",
      "('Mayank', 9887)\n",
      "('Aditya', 9223)\n"
     ]
    }
   ],
   "source": [
    "name=(\"Anuj\",\"Mayank\",\"Aditya\")\n",
    "aadahar_no=(2339,9887,9223)\n",
    "for i in zip(name,aadahar_no):\n",
    "    print(i)"
   ]
  },
  {
   "cell_type": "code",
   "execution_count": 48,
   "id": "81e62348-6b80-499c-8db9-60ad158c79bb",
   "metadata": {},
   "outputs": [
    {
     "ename": "TypeError",
     "evalue": "'tuple' object does not support item assignment",
     "output_type": "error",
     "traceback": [
      "\u001b[0;31m---------------------------------------------------------------------------\u001b[0m",
      "\u001b[0;31mTypeError\u001b[0m                                 Traceback (most recent call last)",
      "Cell \u001b[0;32mIn[48], line 1\u001b[0m\n\u001b[0;32m----> 1\u001b[0m \u001b[43maadahar_no\u001b[49m\u001b[43m[\u001b[49m\u001b[38;5;241;43m1\u001b[39;49m\u001b[43m]\u001b[49m\u001b[38;5;241m=\u001b[39m\u001b[38;5;241m5667.\u001b[39m \u001b[38;5;66;03m#Now if anybody want to modify aadhar detail is not able to do it as it is tuple\u001b[39;00m\n",
      "\u001b[0;31mTypeError\u001b[0m: 'tuple' object does not support item assignment"
     ]
    }
   ],
   "source": [
    "aadahar_no[1]=5667. #Now if anybody want to modify aadhar detail is not able to do it as it is tuple"
   ]
  },
  {
   "cell_type": "code",
   "execution_count": 49,
   "id": "6dd0c074-36b7-475f-8871-4db3fd25ee33",
   "metadata": {},
   "outputs": [],
   "source": [
    "#Q7. Describe how to add, modify and delete items in a dictionary with examples?"
   ]
  },
  {
   "cell_type": "code",
   "execution_count": 50,
   "id": "9dd61520-8d59-4f96-8fae-59b0deb4b8ab",
   "metadata": {},
   "outputs": [
    {
     "name": "stdout",
     "output_type": "stream",
     "text": [
      "Dictionary is Mutable(only value) data structure that can take value in form of key, value pair\n"
     ]
    }
   ],
   "source": [
    "ans=\"Dictionary is Mutable(only value) data structure that can take value in form of key, value pair\"\n",
    "print(ans)"
   ]
  },
  {
   "cell_type": "code",
   "execution_count": 64,
   "id": "04837134-c16c-4195-9822-a6c28c6a097e",
   "metadata": {},
   "outputs": [
    {
     "data": {
      "text/plain": [
       "{'anuj': 20, 'mayank': 22, 'aditya': 21, 'pratyush': 22}"
      ]
     },
     "execution_count": 64,
     "metadata": {},
     "output_type": "execute_result"
    }
   ],
   "source": [
    "dicti={\"anuj\":20,\"mayank\":22,\"aditya\":21}\n",
    "dicti[\"pratyush\"]=22  #To add elements\n",
    "dicti"
   ]
  },
  {
   "cell_type": "code",
   "execution_count": 65,
   "id": "1d3860d2-406f-4e67-932e-a706a79d1d8d",
   "metadata": {},
   "outputs": [
    {
     "data": {
      "text/plain": [
       "{'anuj': 21, 'mayank': 22, 'aditya': 21, 'pratyush': 22}"
      ]
     },
     "execution_count": 65,
     "metadata": {},
     "output_type": "execute_result"
    }
   ],
   "source": [
    "dicti[\"anuj\"]=21 #To modify elements\n",
    "dicti"
   ]
  },
  {
   "cell_type": "code",
   "execution_count": 67,
   "id": "698a9347-aaf8-4431-97d6-b687867044dd",
   "metadata": {},
   "outputs": [
    {
     "data": {
      "text/plain": [
       "{'anuj': 21, 'mayank': 22, 'aditya': 21}"
      ]
     },
     "execution_count": 67,
     "metadata": {},
     "output_type": "execute_result"
    }
   ],
   "source": [
    "del dicti[\"pratyush\"] #to delete element\n",
    "dicti"
   ]
  },
  {
   "cell_type": "code",
   "execution_count": 68,
   "id": "f095b559-4d07-421c-8599-2639ca22fca6",
   "metadata": {},
   "outputs": [],
   "source": [
    "#Q8 Discuss the importance of  dictionary keys being immutable and provide examples?"
   ]
  },
  {
   "cell_type": "code",
   "execution_count": 70,
   "id": "d6be0745-f4de-49ca-86a7-375e42514154",
   "metadata": {},
   "outputs": [
    {
     "name": "stdout",
     "output_type": "stream",
     "text": [
      "Dictionary keys are immutable i.e if they are once defind, there values can be change but key can't be changed\n"
     ]
    }
   ],
   "source": [
    "ans=\"Dictionary keys are immutable i.e if they are once defind, there values can be change but key can't be changed\"\n",
    "print(ans)"
   ]
  },
  {
   "cell_type": "code",
   "execution_count": 71,
   "id": "e93ef18c-618b-4c79-a871-4b34e63d3cc5",
   "metadata": {},
   "outputs": [
    {
     "data": {
      "text/plain": [
       "{'cholle kulche': 170, 'panner-tikka': 70, 'samosa': 15, 'tikki': 70}"
      ]
     },
     "execution_count": 71,
     "metadata": {},
     "output_type": "execute_result"
    }
   ],
   "source": [
    "d={\"cholle kulche\":120,\"panner-tikka\":70,\"samosa\":15,\"tikki\":70}\n",
    "d[\"cholle kulche\"]=170  #I can change the price of items which i have but i can't change the key that is value of food\n",
    "d"
   ]
  },
  {
   "cell_type": "code",
   "execution_count": 73,
   "id": "37fdbabd-3a73-470b-9453-51a98d1e3ee9",
   "metadata": {},
   "outputs": [
    {
     "name": "stdout",
     "output_type": "stream",
     "text": [
      "We can change value but not key because value are defined by key internally\n",
      "Like in list values are defined by numerical numbers 1,2,3,4, similarly in dictionary in above example price list is defined by key that is name of food itnems assigned to them\n"
     ]
    }
   ],
   "source": [
    "ans2=\"We can change value but not key because value are defined by key internally\\nLike in list values are defined by numerical numbers 1,2,3,4, similarly in dictionary in above example price list is defined by key that is name of food itnems assigned to them\"\n",
    "print(ans2)"
   ]
  },
  {
   "cell_type": "code",
   "execution_count": null,
   "id": "a30f966d-d3a4-4346-8877-141b6ebe689c",
   "metadata": {},
   "outputs": [],
   "source": []
  }
 ],
 "metadata": {
  "kernelspec": {
   "display_name": "Python 3 (ipykernel)",
   "language": "python",
   "name": "python3"
  },
  "language_info": {
   "codemirror_mode": {
    "name": "ipython",
    "version": 3
   },
   "file_extension": ".py",
   "mimetype": "text/x-python",
   "name": "python",
   "nbconvert_exporter": "python",
   "pygments_lexer": "ipython3",
   "version": "3.10.8"
  }
 },
 "nbformat": 4,
 "nbformat_minor": 5
}
